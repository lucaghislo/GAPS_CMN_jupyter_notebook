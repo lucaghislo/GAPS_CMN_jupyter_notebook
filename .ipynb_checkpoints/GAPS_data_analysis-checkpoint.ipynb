{
 "cells": [
  {
   "cell_type": "code",
   "execution_count": 1,
   "metadata": {
    "id": "n6xgtwKwhtwa"
   },
   "outputs": [],
   "source": [
    "import numpy as np\n",
    "import pandas as pd\n",
    "from os import *\n",
    "from scipy.optimize import minimize\n",
    "import matplotlib.pyplot as plt"
   ]
  },
  {
   "cell_type": "code",
   "execution_count": 2,
   "metadata": {
    "id": "g3MTe2xVK59Q"
   },
   "outputs": [],
   "source": [
    "# Select filename\n",
    "fname_noext = 'SSL_Berkeley/xray_203_400_FTh_5mins'\n",
    "\n",
    "# Select file extension\n",
    "extension = 'txt'\n",
    "fname = fname_noext + \".\" + extension\n",
    "\n",
    "# Select module number\n",
    "mod_number = 0\n",
    "\n",
    "# Select peaking time\n",
    "acq_pt = 5\n",
    "\n",
    "# Excluded detectors\n",
    "excludeDetectors = []\n",
    "\n",
    "# Excluded channels\n",
    "excludeChannels = []"
   ]
  },
  {
   "cell_type": "code",
   "execution_count": 3,
   "metadata": {
    "colab": {
     "base_uri": "https://localhost:8080/"
    },
    "id": "hHHJNpu0htwe",
    "outputId": "2da6ff72-1db0-4332-fc5a-de7d3a73de09"
   },
   "outputs": [
    {
     "name": "stdout",
     "output_type": "stream",
     "text": [
      "Common Mode Noise active channels are: [ 0  1  2  3  4  5  6  7  8  9 10 11 12 13 14 15 16 17 18 19 20 21 22 23\n",
      " 24 25 26 27 28 29 30 31]\n"
     ]
    }
   ],
   "source": [
    "# Selection of the active channels for the common mode noise determination\n",
    "# Change the variables excludeDetectors and excludeChannels to provide the\n",
    "# channels to be removed from the calculation, if all channels are to be\n",
    "# used set the two variables to [].\n",
    "# Numbering is from detector #0 (ch. #0 to ch. #7) to detector #3 (ch. #24\n",
    "# to ch. #31)\n",
    "\n",
    "global chMask\n",
    "\n",
    "Mask = np.ones((32,1),dtype='int')\n",
    "\n",
    "for exclude in excludeDetectors:\n",
    "    for i in range(8):\n",
    "        Mask[exclude*8+i] = 0\n",
    "for exclude in excludeChannels:\n",
    "    Mask[exclude] = 0\n",
    "\n",
    "chMask = (Mask > 0).nonzero()[0]\n",
    "print('Common Mode Noise active channels are: {}'.format(chMask))"
   ]
  },
  {
   "cell_type": "code",
   "execution_count": 4,
   "metadata": {
    "id": "qKot_pj9htwh"
   },
   "outputs": [],
   "source": [
    "# Function used to determine the pedestals. It uses only the events where\n",
    "# all signals are below thr. The algorithm calculates the pedestals channel\n",
    "# by channel by removing iteratively the channels that fall outside the\n",
    "# range -nsigma*sigma_i < mean_i < nsigma*sigma_i. nsigma has a default\n",
    "# value of 3.0.\n",
    "# The function returns the pedestals (mean) and the standard deviation of\n",
    "# the values selected to determine the pedestals (std)\n",
    "\n",
    "def Pedestals(ev, thr, nsigma=3.):\n",
    "    sel = np.ones(ev.shape,dtype='int')\n",
    "    for i in range(32):\n",
    "        sel[:,i] *= (ev[:,i] <= thr[i])\n",
    "    std = np.zeros_like(ev[0,:])\n",
    "    mean = np.zeros_like(std)\n",
    "    for i in range(32):\n",
    "        idx = (sel[:,i] > 0).nonzero()[0]\n",
    "        v = ev[idx,i]\n",
    "        mean[i] = v.mean()\n",
    "        stdprev = v.std()\n",
    "        idx = (np.abs(v-mean[i]) < nsigma*stdprev).nonzero()[0]\n",
    "        mean[i] = v[idx].mean()\n",
    "        std[i] = v[idx].std()\n",
    "        while (std[i] < stdprev):\n",
    "            stdprev = std[i]\n",
    "            idx = (np.abs(v-mean[i]) < nsigma*stdprev).nonzero()[0]\n",
    "            mean[i] = v[idx].mean()\n",
    "            std[i] = v[idx].std()\n",
    "    return [mean, std]"
   ]
  },
  {
   "cell_type": "code",
   "execution_count": 5,
   "metadata": {
    "id": "SjbwwAeJhtwi"
   },
   "outputs": [],
   "source": [
    "# Function used to determine the common mode noise. It subtracts the pedestals\n",
    "# from the ADC values and uses the same algorithm of the Pedestal function,\n",
    "# this time event by event, to select the channels without signal.\n",
    "# The function returns the common mode channel selection matrix (ch), the number\n",
    "# of common mode channels on each event (chn), the raw common mode noise (mean),\n",
    "# and the event standard devation of the common mode channels (std) that can be\n",
    "# used to select events where the common mode can be calculated correctly (those\n",
    "# with low std).\n",
    "\n",
    "def CMNchannels(ev, peds, nsigma=3.):\n",
    "    global chMask\n",
    "    v = ev-peds\n",
    "    v = v[:,chMask]\n",
    "    ch = np.zeros_like(v)\n",
    "    stdprev = v.std(axis=1).reshape(v.shape[0],1)\n",
    "    std = np.zeros_like(stdprev)\n",
    "    mean = v.mean(axis=1)\n",
    "    chn = np.zeros_like(std)\n",
    "    for i in range(v.shape[0]):\n",
    "        vv = v[i,:]\n",
    "        chmax = (vv == vv.max()).nonzero()[0]\n",
    "        chidx = np.array(range(v.shape[1]))\n",
    "        chidx = np.delete(chidx,chmax)\n",
    "        stdprev[i] = vv[chidx].std()\n",
    "        mean[i] = vv[chidx].mean()\n",
    "        chidx = (np.abs(vv-mean[i]) < nsigma*stdprev[i])\n",
    "        idx = chidx.nonzero()[0]\n",
    "        mean[i] = vv[idx].mean()\n",
    "        std[i] = vv[idx].std()\n",
    "        while (std[i] < stdprev[i]):\n",
    "            stdprev[i] = std[i]\n",
    "            chidx = (vv-mean[i] < nsigma*stdprev[i])\n",
    "            idx = chidx.nonzero()[0]\n",
    "            mean[i] = vv[idx].mean()\n",
    "            std[i] = vv[idx].std()\n",
    "        ch[i,:] = chidx[:]\n",
    "        chn[i] = len(idx)\n",
    "    return [ch, chn, mean, std]"
   ]
  },
  {
   "cell_type": "code",
   "execution_count": 6,
   "metadata": {
    "id": "dvtDj9djhtwj"
   },
   "outputs": [],
   "source": [
    "# Function used by the minimization to determine the common mode noise coupling\n",
    "# to thee various channels (common mode noise \"gain\"). It uses global variables\n",
    "# containing the pedestal subtracted event data and the common mode noise selection\n",
    "# matrix.\n",
    "\n",
    "def cmnGain(p):\n",
    "    global cmnEv\n",
    "    global cmnCh\n",
    "    n = cmnEv.shape[0]\n",
    "    g = np.array(p)\n",
    "    I = np.ones((n,1))\n",
    "    g_sum = (((np.outer(I, g))*cmnCh).sum(axis=1)).reshape(n,1)\n",
    "    cmn = ((cmnEv*cmnCh).sum(axis=1)).reshape(n,1)\n",
    "    cmn = cmn/g_sum\n",
    "    cmn_matrix = np.outer(cmn, g)\n",
    "    y = (((cmnEv-cmn_matrix)*cmnCh)**2).sum()\n",
    "    return y"
   ]
  },
  {
   "cell_type": "code",
   "execution_count": 7,
   "metadata": {
    "id": "TSDk3sYhhtwk"
   },
   "outputs": [],
   "source": [
    "# Function used to remove the common mode noise from the event data. It uses\n",
    "# the raw event data, the pedestals, the common mode channels selection matrix\n",
    "# and the common mode noise coupling gains. The function returns the pedestal\n",
    "# and common mode corrected event data (v) and the event common mode noise (cmn).\n",
    "# Note: the common mode noise is removed only for the active channels\n",
    "\n",
    "def removeDisturbances(ev, peds, ch, g):\n",
    "    global chMask\n",
    "    v = ev-peds\n",
    "    vv = v[:,chMask]\n",
    "    n = vv.shape[0]\n",
    "    I = np.ones((n,1))\n",
    "    g_sum = (((np.outer(I, g))*ch).sum(axis=1)).reshape(n,1)\n",
    "    cmn = ((vv*ch).sum(axis=1)).reshape(n,1)\n",
    "    cmn = cmn/g_sum\n",
    "    cmn_matrix = np.outer(cmn, g)\n",
    "    vv = vv-cmn_matrix\n",
    "    for i,j in enumerate(chMask):\n",
    "        v[:,j] = vv[:,i]\n",
    "    return [v, cmn]"
   ]
  },
  {
   "cell_type": "code",
   "execution_count": 8,
   "metadata": {
    "id": "_g4eit8_htwl"
   },
   "outputs": [],
   "source": [
    "# Function used to determine the pedestals (ch_mean) and the noise (ch_std)\n",
    "# after the pedestals and the common mode noise has been subtracted from the\n",
    "# event data. The new pedestals should all be \"zero\" (within the noise limits)\n",
    "# and the new noise standard deviations should be equal or smaller than the\n",
    "# one calculated at the beginning by the pedestals determination function.\n",
    "\n",
    "def histParameters(energy, thr, nsigma = 3.):\n",
    "    ch_std = np.zeros(32)\n",
    "    ch_mean = np.zeros(32)\n",
    "    for i in range(32):\n",
    "        idx = (energy[:,i] < thr).nonzero()[0]\n",
    "        data = energy[idx,i]\n",
    "        old_std = data.std()\n",
    "        ch_mean[i] = data.mean()\n",
    "        idx = (np.abs(data-ch_mean[i]) < nsigma*old_std).nonzero()[0]\n",
    "        ch_std[i] = data[idx].std()\n",
    "        ch_mean[i] = data[idx].mean()\n",
    "        while (ch_std[i] < old_std):\n",
    "            old_std = ch_std[i]\n",
    "            idx = (np.abs(data-ch_mean[i]) < nsigma*old_std).nonzero()[0]\n",
    "            ch_std[i] = data[idx].std()\n",
    "            ch_mean[i] = data[idx].mean()\n",
    "    return [ch_mean, ch_std]"
   ]
  },
  {
   "cell_type": "code",
   "execution_count": 9,
   "metadata": {
    "id": "DJvDy5p3htwm"
   },
   "outputs": [],
   "source": [
    "# Load the file. Notice that this is very slow, be patient!\n",
    "\n",
    "try:\n",
    "    ev, evtype, module, chtype, channel, adc = np.loadtxt(fname, dtype='int', comments='#', usecols=(0, 1, 2, 3, 4, 5), unpack=True)\n",
    "    N = np.unique(ev)\n",
    "except:\n",
    "    pass"
   ]
  },
  {
   "cell_type": "code",
   "execution_count": 10,
   "metadata": {
    "colab": {
     "base_uri": "https://localhost:8080/"
    },
    "id": "_UIuH89Jhtwm",
    "outputId": "2ea719a3-e2af-4a2f-d248-70c53682750a",
    "scrolled": true
   },
   "outputs": [
    {
     "name": "stdout",
     "output_type": "stream",
     "text": [
      "Events in file:  32294\n",
      "Real events:  32294\n",
      "All negative saturated:  0\n",
      "Some negative saturated:  2\n",
      "All positive saturated:  1\n",
      "some positive saturated:  0\n",
      "Selected:  32291\n"
     ]
    }
   ],
   "source": [
    "# Print the number of events in the file\n",
    "\n",
    "print('Events in file: ', len(N))\n",
    "Event = []\n",
    "\n",
    "idx = (module == mod_number).nonzero()[0]  # REMEMBER TO UPDATE THE MODULE NUMBER !!!!!!!!!!!!!!\n",
    "evn = ev[idx]\n",
    "ch = channel[idx]\n",
    "val = adc[idx]\n",
    "\n",
    "evnw = evn.view()\n",
    "chw = ch.view()\n",
    "valw = val.view()\n",
    "\n",
    "# Determine the good events and store them in the Event list along with the event\n",
    "# number and the channel numbers. This step eliminates all 0 and all 2047 events\n",
    "# and the events where there is S&H saturation (changing the neg_saturation and\n",
    "# the pos_saturation values can be used to play with saturation)\n",
    "\n",
    "selected = 0\n",
    "all_neg_saturation = 0\n",
    "all_pos_saturation = 0\n",
    "some_neg_saturation = 0\n",
    "some_pos_saturation = 0\n",
    "neg_saturation = 40.\n",
    "pos_saturation = 2020.\n",
    "if (len(N)):\n",
    "    for n in N:\n",
    "        # check only 40 rows at a time\n",
    "        if (len(evnw) > 40):\n",
    "            idx = (evnw[0:40] == n).nonzero()[0]\n",
    "        else:\n",
    "            idx = (evnw == n).nonzero()[0]\n",
    "        # verify that the event contains 32 rows and all channels are present\n",
    "        if ((len(idx) == 32) and (ch[idx].sum() == 496)):\n",
    "            # verify saturation\n",
    "            if ((valw[idx] <= neg_saturation).all()):\n",
    "                all_neg_saturation += 1\n",
    "            elif ((valw[idx] <= neg_saturation).any()):\n",
    "                some_neg_saturation += 1\n",
    "            elif ((valw[idx] >= pos_saturation).all()):\n",
    "                all_pos_saturation += 1\n",
    "            elif ((valw[idx] >= pos_saturation).any()):\n",
    "                some_pos_saturation += 1\n",
    "            else:\n",
    "                Nch = chw[idx]\n",
    "                ADCs = valw[idx]\n",
    "                Event.append([n, Nch, ADCs])\n",
    "                selected += 1\n",
    "        ii = len(idx)\n",
    "        evnw = evnw[ii:].view()\n",
    "        chw = chw[ii:].view()\n",
    "        valw = valw[ii:].view()\n",
    "\n",
    "# Plot the good/bad events statistics\n",
    "print('Real events: ', selected+all_neg_saturation+some_neg_saturation+all_pos_saturation+some_pos_saturation)\n",
    "print('All negative saturated: ', all_neg_saturation)\n",
    "print('Some negative saturated: ', some_neg_saturation)\n",
    "print('All positive saturated: ', all_pos_saturation)\n",
    "print('some positive saturated: ', some_pos_saturation)\n",
    "print('Selected: ', selected)"
   ]
  },
  {
   "cell_type": "code",
   "execution_count": 11,
   "metadata": {
    "id": "kE9r757Phtwo",
    "scrolled": true
   },
   "outputs": [],
   "source": [
    "# Prepare the event and pedestal variables for the analysis\n",
    "\n",
    "global events\n",
    "global peds\n",
    "n = len(Event)\n",
    "peds = np.zeros((1, 32))\n",
    "events = np.empty((n, 32))\n",
    "for i, data in enumerate(Event):\n",
    "    events[i,:] = data[2]"
   ]
  },
  {
   "cell_type": "code",
   "execution_count": 12,
   "metadata": {
    "colab": {
     "base_uri": "https://localhost:8080/",
     "height": 1000
    },
    "id": "_bWsuq5Thtwo",
    "outputId": "18daaaaa-247c-4608-c664-1b6d95130303"
   },
   "outputs": [
    {
     "data": {
      "image/png": "[encoded data removed]",
      "text/plain": [
       "<Figure size 640x480 with 1 Axes>"
      ]
     },
     "metadata": {},
     "output_type": "display_data"
    },
    {
     "data": {
      "image/png": "[encoded data removed]",
      "text/plain": [
       "<Figure size 640x480 with 1 Axes>"
      ]
     },
     "metadata": {},
     "output_type": "display_data"
    },
    {
     "ename": "OSError",
     "evalue": "Cannot save file into a non-existent directory: 'SSL_Berkeley\\xray_203_400_FTh_5mins\\raw\\csv'",
     "output_type": "error",
     "traceback": [
      "\u001b[1;31m---------------------------------------------------------------------------\u001b[0m",
      "\u001b[1;31mOSError\u001b[0m                                   Traceback (most recent call last)",
      "Input \u001b[1;32mIn [12]\u001b[0m, in \u001b[0;36m<cell line: 31>\u001b[1;34m()\u001b[0m\n\u001b[0;32m     42\u001b[0m     plt\u001b[38;5;241m.\u001b[39mclf() \n\u001b[0;32m     44\u001b[0m     my_df \u001b[38;5;241m=\u001b[39m pd\u001b[38;5;241m.\u001b[39mDataFrame(events[:, i])\n\u001b[1;32m---> 45\u001b[0m     \u001b[43mmy_df\u001b[49m\u001b[38;5;241;43m.\u001b[39;49m\u001b[43mto_csv\u001b[49m\u001b[43m(\u001b[49m\u001b[43mpath\u001b[49m\u001b[38;5;241;43m.\u001b[39;49m\u001b[43mjoin\u001b[49m\u001b[43m(\u001b[49m\u001b[43mcsv_path\u001b[49m\u001b[43m,\u001b[49m\u001b[43m \u001b[49m\u001b[38;5;124;43m\"\u001b[39;49m\u001b[38;5;124;43mch\u001b[39;49m\u001b[38;5;124;43m\"\u001b[39;49m\u001b[43m \u001b[49m\u001b[38;5;241;43m+\u001b[39;49m\u001b[43m \u001b[49m\u001b[38;5;28;43mstr\u001b[39;49m\u001b[43m(\u001b[49m\u001b[43mi\u001b[49m\u001b[43m)\u001b[49m\u001b[43m \u001b[49m\u001b[38;5;241;43m+\u001b[39;49m\u001b[43m \u001b[49m\u001b[38;5;124;43m\"\u001b[39;49m\u001b[38;5;124;43m.csv\u001b[39;49m\u001b[38;5;124;43m\"\u001b[39;49m\u001b[43m)\u001b[49m\u001b[43m,\u001b[49m\u001b[43m \u001b[49m\u001b[43mheader\u001b[49m\u001b[43m \u001b[49m\u001b[38;5;241;43m=\u001b[39;49m\u001b[43m \u001b[49m\u001b[38;5;28;43;01mFalse\u001b[39;49;00m\u001b[43m,\u001b[49m\u001b[43m \u001b[49m\u001b[43mindex\u001b[49m\u001b[38;5;241;43m=\u001b[39;49m\u001b[43m \u001b[49m\u001b[38;5;28;43;01mFalse\u001b[39;49;00m\u001b[43m)\u001b[49m\n\u001b[0;32m     47\u001b[0m     \u001b[38;5;28mprint\u001b[39m(\u001b[38;5;124m\"\u001b[39m\u001b[38;5;124mSaved ch \u001b[39m\u001b[38;5;124m\"\u001b[39m \u001b[38;5;241m+\u001b[39m \u001b[38;5;28mstr\u001b[39m(i))\n\u001b[0;32m     49\u001b[0m plt\u001b[38;5;241m.\u001b[39mhist(events\u001b[38;5;241m.\u001b[39mflatten(),\u001b[38;5;241m100\u001b[39m,(\u001b[38;5;241m0\u001b[39m,\u001b[38;5;241m2000\u001b[39m))\n",
      "File \u001b[1;32mC:\\Python\\lib\\site-packages\\pandas\\core\\generic.py:3551\u001b[0m, in \u001b[0;36mNDFrame.to_csv\u001b[1;34m(self, path_or_buf, sep, na_rep, float_format, columns, header, index, index_label, mode, encoding, compression, quoting, quotechar, line_terminator, chunksize, date_format, doublequote, escapechar, decimal, errors, storage_options)\u001b[0m\n\u001b[0;32m   3540\u001b[0m df \u001b[38;5;241m=\u001b[39m \u001b[38;5;28mself\u001b[39m \u001b[38;5;28;01mif\u001b[39;00m \u001b[38;5;28misinstance\u001b[39m(\u001b[38;5;28mself\u001b[39m, ABCDataFrame) \u001b[38;5;28;01melse\u001b[39;00m \u001b[38;5;28mself\u001b[39m\u001b[38;5;241m.\u001b[39mto_frame()\n\u001b[0;32m   3542\u001b[0m formatter \u001b[38;5;241m=\u001b[39m DataFrameFormatter(\n\u001b[0;32m   3543\u001b[0m     frame\u001b[38;5;241m=\u001b[39mdf,\n\u001b[0;32m   3544\u001b[0m     header\u001b[38;5;241m=\u001b[39mheader,\n\u001b[1;32m   (...)\u001b[0m\n\u001b[0;32m   3548\u001b[0m     decimal\u001b[38;5;241m=\u001b[39mdecimal,\n\u001b[0;32m   3549\u001b[0m )\n\u001b[1;32m-> 3551\u001b[0m \u001b[38;5;28;01mreturn\u001b[39;00m \u001b[43mDataFrameRenderer\u001b[49m\u001b[43m(\u001b[49m\u001b[43mformatter\u001b[49m\u001b[43m)\u001b[49m\u001b[38;5;241;43m.\u001b[39;49m\u001b[43mto_csv\u001b[49m\u001b[43m(\u001b[49m\n\u001b[0;32m   3552\u001b[0m \u001b[43m    \u001b[49m\u001b[43mpath_or_buf\u001b[49m\u001b[43m,\u001b[49m\n\u001b[0;32m   3553\u001b[0m \u001b[43m    \u001b[49m\u001b[43mline_terminator\u001b[49m\u001b[38;5;241;43m=\u001b[39;49m\u001b[43mline_terminator\u001b[49m\u001b[43m,\u001b[49m\n\u001b[0;32m   3554\u001b[0m \u001b[43m    \u001b[49m\u001b[43msep\u001b[49m\u001b[38;5;241;43m=\u001b[39;49m\u001b[43msep\u001b[49m\u001b[43m,\u001b[49m\n\u001b[0;32m   3555\u001b[0m \u001b[43m    \u001b[49m\u001b[43mencoding\u001b[49m\u001b[38;5;241;43m=\u001b[39;49m\u001b[43mencoding\u001b[49m\u001b[43m,\u001b[49m\n\u001b[0;32m   3556\u001b[0m \u001b[43m    \u001b[49m\u001b[43merrors\u001b[49m\u001b[38;5;241;43m=\u001b[39;49m\u001b[43merrors\u001b[49m\u001b[43m,\u001b[49m\n\u001b[0;32m   3557\u001b[0m \u001b[43m    \u001b[49m\u001b[43mcompression\u001b[49m\u001b[38;5;241;43m=\u001b[39;49m\u001b[43mcompression\u001b[49m\u001b[43m,\u001b[49m\n\u001b[0;32m   3558\u001b[0m \u001b[43m    \u001b[49m\u001b[43mquoting\u001b[49m\u001b[38;5;241;43m=\u001b[39;49m\u001b[43mquoting\u001b[49m\u001b[43m,\u001b[49m\n\u001b[0;32m   3559\u001b[0m \u001b[43m    \u001b[49m\u001b[43mcolumns\u001b[49m\u001b[38;5;241;43m=\u001b[39;49m\u001b[43mcolumns\u001b[49m\u001b[43m,\u001b[49m\n\u001b[0;32m   3560\u001b[0m \u001b[43m    \u001b[49m\u001b[43mindex_label\u001b[49m\u001b[38;5;241;43m=\u001b[39;49m\u001b[43mindex_label\u001b[49m\u001b[43m,\u001b[49m\n\u001b[0;32m   3561\u001b[0m \u001b[43m    \u001b[49m\u001b[43mmode\u001b[49m\u001b[38;5;241;43m=\u001b[39;49m\u001b[43mmode\u001b[49m\u001b[43m,\u001b[49m\n\u001b[0;32m   3562\u001b[0m \u001b[43m    \u001b[49m\u001b[43mchunksize\u001b[49m\u001b[38;5;241;43m=\u001b[39;49m\u001b[43mchunksize\u001b[49m\u001b[43m,\u001b[49m\n\u001b[0;32m   3563\u001b[0m \u001b[43m    \u001b[49m\u001b[43mquotechar\u001b[49m\u001b[38;5;241;43m=\u001b[39;49m\u001b[43mquotechar\u001b[49m\u001b[43m,\u001b[49m\n\u001b[0;32m   3564\u001b[0m \u001b[43m    \u001b[49m\u001b[43mdate_format\u001b[49m\u001b[38;5;241;43m=\u001b[39;49m\u001b[43mdate_format\u001b[49m\u001b[43m,\u001b[49m\n\u001b[0;32m   3565\u001b[0m \u001b[43m    \u001b[49m\u001b[43mdoublequote\u001b[49m\u001b[38;5;241;43m=\u001b[39;49m\u001b[43mdoublequote\u001b[49m\u001b[43m,\u001b[49m\n\u001b[0;32m   3566\u001b[0m \u001b[43m    \u001b[49m\u001b[43mescapechar\u001b[49m\u001b[38;5;241;43m=\u001b[39;49m\u001b[43mescapechar\u001b[49m\u001b[43m,\u001b[49m\n\u001b[0;32m   3567\u001b[0m \u001b[43m    \u001b[49m\u001b[43mstorage_options\u001b[49m\u001b[38;5;241;43m=\u001b[39;49m\u001b[43mstorage_options\u001b[49m\u001b[43m,\u001b[49m\n\u001b[0;32m   3568\u001b[0m \u001b[43m\u001b[49m\u001b[43m)\u001b[49m\n",
      "File \u001b[1;32mC:\\Python\\lib\\site-packages\\pandas\\io\\formats\\format.py:1180\u001b[0m, in \u001b[0;36mDataFrameRenderer.to_csv\u001b[1;34m(self, path_or_buf, encoding, sep, columns, index_label, mode, compression, quoting, quotechar, line_terminator, chunksize, date_format, doublequote, escapechar, errors, storage_options)\u001b[0m\n\u001b[0;32m   1159\u001b[0m     created_buffer \u001b[38;5;241m=\u001b[39m \u001b[38;5;28;01mFalse\u001b[39;00m\n\u001b[0;32m   1161\u001b[0m csv_formatter \u001b[38;5;241m=\u001b[39m CSVFormatter(\n\u001b[0;32m   1162\u001b[0m     path_or_buf\u001b[38;5;241m=\u001b[39mpath_or_buf,\n\u001b[0;32m   1163\u001b[0m     line_terminator\u001b[38;5;241m=\u001b[39mline_terminator,\n\u001b[1;32m   (...)\u001b[0m\n\u001b[0;32m   1178\u001b[0m     formatter\u001b[38;5;241m=\u001b[39m\u001b[38;5;28mself\u001b[39m\u001b[38;5;241m.\u001b[39mfmt,\n\u001b[0;32m   1179\u001b[0m )\n\u001b[1;32m-> 1180\u001b[0m \u001b[43mcsv_formatter\u001b[49m\u001b[38;5;241;43m.\u001b[39;49m\u001b[43msave\u001b[49m\u001b[43m(\u001b[49m\u001b[43m)\u001b[49m\n\u001b[0;32m   1182\u001b[0m \u001b[38;5;28;01mif\u001b[39;00m created_buffer:\n\u001b[0;32m   1183\u001b[0m     \u001b[38;5;28;01massert\u001b[39;00m \u001b[38;5;28misinstance\u001b[39m(path_or_buf, StringIO)\n",
      "File \u001b[1;32mC:\\Python\\lib\\site-packages\\pandas\\io\\formats\\csvs.py:241\u001b[0m, in \u001b[0;36mCSVFormatter.save\u001b[1;34m(self)\u001b[0m\n\u001b[0;32m    237\u001b[0m \u001b[38;5;124;03m\"\"\"\u001b[39;00m\n\u001b[0;32m    238\u001b[0m \u001b[38;5;124;03mCreate the writer & save.\u001b[39;00m\n\u001b[0;32m    239\u001b[0m \u001b[38;5;124;03m\"\"\"\u001b[39;00m\n\u001b[0;32m    240\u001b[0m \u001b[38;5;66;03m# apply compression and byte/text conversion\u001b[39;00m\n\u001b[1;32m--> 241\u001b[0m \u001b[38;5;28;01mwith\u001b[39;00m \u001b[43mget_handle\u001b[49m\u001b[43m(\u001b[49m\n\u001b[0;32m    242\u001b[0m \u001b[43m    \u001b[49m\u001b[38;5;28;43mself\u001b[39;49m\u001b[38;5;241;43m.\u001b[39;49m\u001b[43mfilepath_or_buffer\u001b[49m\u001b[43m,\u001b[49m\n\u001b[0;32m    243\u001b[0m \u001b[43m    \u001b[49m\u001b[38;5;28;43mself\u001b[39;49m\u001b[38;5;241;43m.\u001b[39;49m\u001b[43mmode\u001b[49m\u001b[43m,\u001b[49m\n\u001b[0;32m    244\u001b[0m \u001b[43m    \u001b[49m\u001b[43mencoding\u001b[49m\u001b[38;5;241;43m=\u001b[39;49m\u001b[38;5;28;43mself\u001b[39;49m\u001b[38;5;241;43m.\u001b[39;49m\u001b[43mencoding\u001b[49m\u001b[43m,\u001b[49m\n\u001b[0;32m    245\u001b[0m \u001b[43m    \u001b[49m\u001b[43merrors\u001b[49m\u001b[38;5;241;43m=\u001b[39;49m\u001b[38;5;28;43mself\u001b[39;49m\u001b[38;5;241;43m.\u001b[39;49m\u001b[43merrors\u001b[49m\u001b[43m,\u001b[49m\n\u001b[0;32m    246\u001b[0m \u001b[43m    \u001b[49m\u001b[43mcompression\u001b[49m\u001b[38;5;241;43m=\u001b[39;49m\u001b[38;5;28;43mself\u001b[39;49m\u001b[38;5;241;43m.\u001b[39;49m\u001b[43mcompression\u001b[49m\u001b[43m,\u001b[49m\n\u001b[0;32m    247\u001b[0m \u001b[43m    \u001b[49m\u001b[43mstorage_options\u001b[49m\u001b[38;5;241;43m=\u001b[39;49m\u001b[38;5;28;43mself\u001b[39;49m\u001b[38;5;241;43m.\u001b[39;49m\u001b[43mstorage_options\u001b[49m\u001b[43m,\u001b[49m\n\u001b[0;32m    248\u001b[0m \u001b[43m\u001b[49m\u001b[43m)\u001b[49m \u001b[38;5;28;01mas\u001b[39;00m handles:\n\u001b[0;32m    249\u001b[0m \n\u001b[0;32m    250\u001b[0m     \u001b[38;5;66;03m# Note: self.encoding is irrelevant here\u001b[39;00m\n\u001b[0;32m    251\u001b[0m     \u001b[38;5;28mself\u001b[39m\u001b[38;5;241m.\u001b[39mwriter \u001b[38;5;241m=\u001b[39m csvlib\u001b[38;5;241m.\u001b[39mwriter(\n\u001b[0;32m    252\u001b[0m         handles\u001b[38;5;241m.\u001b[39mhandle,\n\u001b[0;32m    253\u001b[0m         lineterminator\u001b[38;5;241m=\u001b[39m\u001b[38;5;28mself\u001b[39m\u001b[38;5;241m.\u001b[39mline_terminator,\n\u001b[1;32m   (...)\u001b[0m\n\u001b[0;32m    258\u001b[0m         quotechar\u001b[38;5;241m=\u001b[39m\u001b[38;5;28mself\u001b[39m\u001b[38;5;241m.\u001b[39mquotechar,\n\u001b[0;32m    259\u001b[0m     )\n\u001b[0;32m    261\u001b[0m     \u001b[38;5;28mself\u001b[39m\u001b[38;5;241m.\u001b[39m_save()\n",
      "File \u001b[1;32mC:\\Python\\lib\\site-packages\\pandas\\io\\common.py:694\u001b[0m, in \u001b[0;36mget_handle\u001b[1;34m(path_or_buf, mode, encoding, compression, memory_map, is_text, errors, storage_options)\u001b[0m\n\u001b[0;32m    692\u001b[0m \u001b[38;5;66;03m# Only for write methods\u001b[39;00m\n\u001b[0;32m    693\u001b[0m \u001b[38;5;28;01mif\u001b[39;00m \u001b[38;5;124m\"\u001b[39m\u001b[38;5;124mr\u001b[39m\u001b[38;5;124m\"\u001b[39m \u001b[38;5;129;01mnot\u001b[39;00m \u001b[38;5;129;01min\u001b[39;00m mode \u001b[38;5;129;01mand\u001b[39;00m is_path:\n\u001b[1;32m--> 694\u001b[0m     \u001b[43mcheck_parent_directory\u001b[49m\u001b[43m(\u001b[49m\u001b[38;5;28;43mstr\u001b[39;49m\u001b[43m(\u001b[49m\u001b[43mhandle\u001b[49m\u001b[43m)\u001b[49m\u001b[43m)\u001b[49m\n\u001b[0;32m    696\u001b[0m \u001b[38;5;28;01mif\u001b[39;00m compression:\n\u001b[0;32m    697\u001b[0m     \u001b[38;5;28;01mif\u001b[39;00m compression \u001b[38;5;241m!=\u001b[39m \u001b[38;5;124m\"\u001b[39m\u001b[38;5;124mzstd\u001b[39m\u001b[38;5;124m\"\u001b[39m:\n\u001b[0;32m    698\u001b[0m         \u001b[38;5;66;03m# compression libraries do not like an explicit text-mode\u001b[39;00m\n",
      "File \u001b[1;32mC:\\Python\\lib\\site-packages\\pandas\\io\\common.py:568\u001b[0m, in \u001b[0;36mcheck_parent_directory\u001b[1;34m(path)\u001b[0m\n\u001b[0;32m    566\u001b[0m parent \u001b[38;5;241m=\u001b[39m Path(path)\u001b[38;5;241m.\u001b[39mparent\n\u001b[0;32m    567\u001b[0m \u001b[38;5;28;01mif\u001b[39;00m \u001b[38;5;129;01mnot\u001b[39;00m parent\u001b[38;5;241m.\u001b[39mis_dir():\n\u001b[1;32m--> 568\u001b[0m     \u001b[38;5;28;01mraise\u001b[39;00m \u001b[38;5;167;01mOSError\u001b[39;00m(\u001b[38;5;124mrf\u001b[39m\u001b[38;5;124m\"\u001b[39m\u001b[38;5;124mCannot save file into a non-existent directory: \u001b[39m\u001b[38;5;124m'\u001b[39m\u001b[38;5;132;01m{\u001b[39;00mparent\u001b[38;5;132;01m}\u001b[39;00m\u001b[38;5;124m'\u001b[39m\u001b[38;5;124m\"\u001b[39m)\n",
      "\u001b[1;31mOSError\u001b[0m: Cannot save file into a non-existent directory: 'SSL_Berkeley\\xray_203_400_FTh_5mins\\raw\\csv'"
     ]
    },
    {
     "data": {
      "text/plain": [
       "<Figure size 640x480 with 0 Axes>"
      ]
     },
     "metadata": {},
     "output_type": "display_data"
    }
   ],
   "source": [
    "# Plot raw data histograms channel by channel (also the sequential data aquisitions\n",
    "# for channel 0) and all together\n",
    "\n",
    "if not path.exists(fname_noext):\n",
    "    mkdir(fname_noext)\n",
    "    \n",
    "raw_path = path.join(fname_noext, \"raw\")\n",
    "\n",
    "if not path.exists(raw_path):\n",
    "    mkdir(raw_path)\n",
    "    \n",
    "pdf_path = path.join(raw_path, \"pdf\")\n",
    "    \n",
    "if not path.exists(pdf_path):\n",
    "    mkdir(pdf_path)\n",
    "                   \n",
    "png_path = path.join(raw_path, \"png\")\n",
    "    \n",
    "if not path.exists(png_path):\n",
    "    mkdir(png_path)\n",
    "    \n",
    "csv_path = path.join(raw_path, \"csv\")\n",
    "\n",
    "if not path.exists(csv_path):\n",
    "    mkdir(csv_path)\n",
    "\n",
    "i = 0\n",
    "plt.plot(events[:,i])\n",
    "plt.title('Channel {} data'.format(i))\n",
    "plt.xlabel('Event number')\n",
    "plt.ylabel('Energy [ADU]')\n",
    "#plt.axis([0,200,0,200])\n",
    "plt.show()\n",
    "for i in range(32):\n",
    "    plt.hist(events[:,i],100,(0,500))\n",
    "    plt.semilogy()\n",
    "    plt.title('Channel {} data'.format(i))\n",
    "    plt.xlabel('Energy [ADU]')\n",
    "    plt.ylabel('Counts')\n",
    "    \n",
    "    plt.savefig(path.join(pdf_path, \"ch\" + str(i) + \".pdf\")) \n",
    "    plt.savefig(path.join(png_path, \"ch\" + str(i) + \".png\")) \n",
    "    \n",
    "    plt.show()\n",
    "    plt.clf() \n",
    "\n",
    "    my_df = pd.DataFrame(events[:, i])\n",
    "    my_df.to_csv(path.join(csv_path, \"ch\" + str(i) + \".csv\"), header = False, index= False)\n",
    "    \n",
    "    print(\"Saved ch \" + str(i))\n",
    "\n",
    "plt.hist(events.flatten(),100,(0,2000))\n",
    "plt.semilogy()\n",
    "plt.title('All data'.format(i))\n",
    "plt.xlabel('Energy [ADU]')\n",
    "plt.ylabel('Counts')\n",
    "#plt.axis([0,200,0,200])\n",
    "plt.show()\n",
    "\n",
    "# Print the average values for all channels\n",
    "print('Channel averages:\\n', events.mean(axis=0), '\\n')"
   ]
  },
  {
   "cell_type": "code",
   "execution_count": null,
   "metadata": {
    "colab": {
     "base_uri": "https://localhost:8080/"
    },
    "id": "5YIUDWuQhtwp",
    "outputId": "39387265-9d51-4c75-bf6b-7dee29afef3b"
   },
   "outputs": [],
   "source": [
    "# Determine the pedestals and print them along with their standard deviation and the\n",
    "# difference between pedestals and channel mean value (this one just for sport)\n",
    "\n",
    "# Load pedestal file to determine channel threshold\n",
    "ped_data = pd.read_csv(\"SSL_Berkeley\\Pedestals.dat\", sep = \"\\t\")\n",
    "ped_data_pt5 = ped_data[ped_data[\"pt\"]==acq_pt]\n",
    "ped_mean = ped_data_pt5[\"mean\"]\n",
    "\n",
    "thr = ped_data_pt5[\"mean\"].to_numpy()\n",
    "thr = [thri + 10 for thri in thr]\n",
    "\n",
    "peds, s = Pedestals(events, thr, 2.)\n",
    "print('Pedestals:\\n', peds, '\\n')\n",
    "print('Sigmas:\\n', s, '\\n')\n",
    "print('Pedestals - Channel averages:\\n', peds-events.mean(axis=0))"
   ]
  },
  {
   "cell_type": "code",
   "execution_count": null,
   "metadata": {
    "colab": {
     "base_uri": "https://localhost:8080/",
     "height": 573
    },
    "id": "3R5yiTiPhtwq",
    "outputId": "adb92a45-510f-4f74-e910-10985c297aef"
   },
   "outputs": [],
   "source": [
    "# Determine the common mode noise selection matrix and plot the standard deviation\n",
    "# of the common mode channels and their number\n",
    "\n",
    "ch, chn, CMNraw, std = CMNchannels(events,peds,3.)\n",
    "plt.plot(std)\n",
    "plt.title('CMN channel selection - standard deviation'.format(i))\n",
    "plt.xlabel('Event number')\n",
    "plt.ylabel('Energy [ADU]')\n",
    "plt.show()\n",
    "plt.plot(chn)\n",
    "plt.title('CMN channel selection - number of channels'.format(i))\n",
    "plt.xlabel('Event number')\n",
    "plt.ylabel('Count')\n",
    "plt.show()"
   ]
  },
  {
   "cell_type": "code",
   "execution_count": null,
   "metadata": {
    "colab": {
     "base_uri": "https://localhost:8080/"
    },
    "id": "pCsITx1ihtwr",
    "outputId": "49638cc1-b53f-4e70-8d12-b457e98fc19c"
   },
   "outputs": [],
   "source": [
    "## Determine the good events (common mode noise standard deviation lower than\n",
    "# std_val) and print how many they are, prepare the global variables for the\n",
    "# common mode gain determination step.\n",
    "\n",
    "n = ch.shape[0]\n",
    "std_val = 14.\n",
    "idx = (std < std_val).nonzero()[0]\n",
    "good = len(idx)\n",
    "print('Number of good events (cmn std < {}): {}'.format(std_val, good))\n",
    "global cmnEv\n",
    "global cmnCh\n",
    "cmnEv = events[idx,:]-peds\n",
    "cmnEv = cmnEv[:,chMask]\n",
    "cmnCh = ch[idx,:]"
   ]
  },
  {
   "cell_type": "code",
   "execution_count": null,
   "metadata": {
    "colab": {
     "base_uri": "https://localhost:8080/"
    },
    "id": "ncKmbf2Whtwr",
    "outputId": "83172e16-4cd9-4590-dc92-2d7cfecd31ec"
   },
   "outputs": [],
   "source": [
    "# Find the common mode noise coupling to the channels (common mode noise gain).\n",
    "# p are the parameters of the minimization (the gains). This is also slow...\n",
    "\n",
    "p = np.ones((1,len(chMask)), dtype=float)\n",
    "\n",
    "result = minimize(cmnGain, p, method='Nelder-Mead', options={'maxiter': 1e6, 'disp': True, 'adaptive': True})\n",
    "\n",
    "# alternative minimization method with bounds\n",
    "#bnds = np.ones((len(chMask),2), dtype=float)\n",
    "#bnds[:,0] = 0.8\n",
    "#bnds[:,1] = 1.2\n",
    "#result = minimize(cmnGain, p, method='SLSQP', bounds=(bnds), options={'maxiter': 1e3, 'disp': True})"
   ]
  },
  {
   "cell_type": "code",
   "execution_count": null,
   "metadata": {
    "colab": {
     "base_uri": "https://localhost:8080/",
     "height": 744
    },
    "id": "xWs6zLSnhtws",
    "outputId": "adadef9e-a0d9-48b6-ccb1-42112d7ef3e8"
   },
   "outputs": [],
   "source": [
    "# remove the common mode noise (disturbances) from the event data, print the\n",
    "# common mode noise gains, and plot the common mode noise along with the number\n",
    "# of channels used to calculate it. The output is the variable Energy containing\n",
    "# the pedestal and common mode noise subtracted event data for the good events\n",
    "# (good as defined above)\n",
    "\n",
    "g = result.x\n",
    "print('Common mode gains:\\n', g, '\\n')\n",
    "print('Sum of gains: ', g.sum())\n",
    "idx = (std < std_val).nonzero()[0]\n",
    "ev_good = events[idx,:]\n",
    "ch_good = ch[idx,:]\n",
    "energy, cmn = removeDisturbances(ev_good, peds, ch_good, g)\n",
    "plt.plot(cmn)\n",
    "plt.title('Common mode noise')\n",
    "plt.xlabel('Event number')\n",
    "plt.ylabel('Energy [ADU]')\n",
    "plt.show()\n",
    "plt.plot(chn)\n",
    "plt.title('Number of channels used to calculate\\n the common mode noise'.format(i))\n",
    "plt.xlabel('Event number')\n",
    "plt.ylabel('Counts')\n",
    "plt.show()"
   ]
  },
  {
   "cell_type": "code",
   "execution_count": null,
   "metadata": {
    "colab": {
     "base_uri": "https://localhost:8080/",
     "height": 1000
    },
    "id": "jMVvtaxihtwt",
    "outputId": "8a5bd9dc-552d-4a82-b39b-99b903c1f639"
   },
   "outputs": [],
   "source": [
    "# Show correlation plots of the Energy data with respect to the common mode noise\n",
    "\n",
    "for i in range(32):\n",
    "    plt.plot(cmn, energy[:,i],'.')\n",
    "    plt.title('Channel {} vs CMN'.format(i))\n",
    "    plt.xlabel('Energy [ADU]')\n",
    "    plt.ylabel('Energy [ADU]')\n",
    "    plt.show()"
   ]
  },
  {
   "cell_type": "code",
   "execution_count": null,
   "metadata": {
    "colab": {
     "base_uri": "https://localhost:8080/",
     "height": 236
    },
    "id": "aNt6gF0Hhtwu",
    "outputId": "0d035753-9f5f-4bc0-89e3-12821012e34e"
   },
   "outputs": [],
   "source": [
    "# Plot the Energy histogram for all channels. These histograms should have a\n",
    "# pedestal peak and the MIP signal (if present)\n",
    "    \n",
    "computed_path = path.join(fname_noext, \"computed\")\n",
    "\n",
    "if not path.exists(computed_path):\n",
    "    mkdir(computed_path)\n",
    "    \n",
    "pdf_path = path.join(computed_path, \"pdf\")\n",
    "    \n",
    "if not path.exists(pdf_path):\n",
    "    mkdir(pdf_path)\n",
    "                   \n",
    "png_path = path.join(computed_path, \"png\")\n",
    "    \n",
    "if not path.exists(png_path):\n",
    "    mkdir(png_path)\n",
    "    \n",
    "csv_path = path.join(computed_path, \"csv\")\n",
    "    \n",
    "if not path.exists(csv_path):\n",
    "    mkdir(csv_path)\n",
    "\n",
    "for i in range(32):\n",
    "    idx = (cmn < 10).nonzero()[0] # select the events where the signal is present\n",
    "    plt.hist(energy[idx,i],220,(-100,300))\n",
    "    plt.semilogy()\n",
    "    plt.title('Channel {}'.format(i))\n",
    "    plt.xlabel('Energy [ADU]')\n",
    "    plt.ylabel('Counts')\n",
    "    plt.axis([-50, 300, 0.3, 30000])\n",
    "    \n",
    "    plt.savefig(path.join(pdf_path, \"ch\" + str(i) + \".pdf\")) \n",
    "    plt.savefig(path.join(png_path, \"ch\" + str(i) + \".png\")) \n",
    "    \n",
    "    plt.show()\n",
    "    plt.clf() \n",
    "\n",
    "    my_df = pd.DataFrame(energy[idx, i])\n",
    "    my_df.to_csv(path.join(csv_path, \"ch\" + str(i) + \".csv\"), header = False, index= False)\n",
    "    \n",
    "    print(\"Saved ch \" + str(i))\n",
    "   "
   ]
  },
  {
   "cell_type": "code",
   "execution_count": null,
   "metadata": {
    "colab": {
     "base_uri": "https://localhost:8080/",
     "height": 236
    },
    "id": "rkFUCZPwhtwv",
    "outputId": "ba35d547-d1af-44c6-ea87-f0a6a198631c"
   },
   "outputs": [],
   "source": [
    "# Plot the sum histogram of the Energy of all active channels. Keep in mind that the channel\n",
    "# gains are not equalized, this should be performed in a further step when every channel\n",
    "# has a muon peak\n",
    "\n",
    "energyActive = energy[idx,:]\n",
    "energyActive = energyActive[:,chMask]\n",
    "plt.hist((energyActive).flatten(),220,(-100,150))\n",
    "plt.semilogy()\n",
    "plt.title('Sum histogram')\n",
    "plt.xlabel('Energy [ADU]')\n",
    "plt.ylabel('Counts')\n",
    "plt.axis([-50, 150, 0.3, 1000000])\n",
    "plt.show()"
   ]
  },
  {
   "cell_type": "code",
   "execution_count": null,
   "metadata": {
    "colab": {
     "base_uri": "https://localhost:8080/"
    },
    "id": "Q6s9y5PDhtww",
    "outputId": "7f642c44-c006-4323-b9f5-674af1f6f418"
   },
   "outputs": [],
   "source": [
    "# Determine the new pedestal and electronics noise of the channels after\n",
    "# pedestal and common mode noise subtraction\n",
    "\n",
    "pedestals, noise = histParameters(energy[idx,:], 50, nsigma = 3.)\n",
    "print ('Histogram pedestals:\\n', pedestals, '\\n')\n",
    "print ('Histogram standard deviations:\\n', noise)"
   ]
  },
  {
   "cell_type": "code",
   "execution_count": null,
   "metadata": {
    "colab": {
     "base_uri": "https://localhost:8080/",
     "height": 1000
    },
    "id": "F-STnu0Vhtww",
    "outputId": "293c414b-0c6a-49bc-d290-f6cfbde870ad"
   },
   "outputs": [],
   "source": [
    "# Plot the first 20 bad events (pedestal subtracted data) to have a look at them\n",
    "\n",
    "idx = (std >= std_val).nonzero()[0]\n",
    "ev_bad = events[idx,:]-peds\n",
    "for i in range(min(20, len(idx))):\n",
    "    plt.plot(ev_bad[i,:],'.')\n",
    "    plt.title('Event {}'.format(idx[i]))\n",
    "    plt.xlabel('Channel')\n",
    "    plt.ylabel('Energy [ADU]')\n",
    "    plt.show()"
   ]
  }
 ],
 "metadata": {
  "accelerator": "GPU",
  "colab": {
   "provenance": []
  },
  "gpuClass": "standard",
  "kernelspec": {
   "display_name": "Python 3 (ipykernel)",
   "language": "python",
   "name": "python3"
  },
  "language_info": {
   "codemirror_mode": {
    "name": "ipython",
    "version": 3
   },
   "file_extension": ".py",
   "mimetype": "text/x-python",
   "name": "python",
   "nbconvert_exporter": "python",
   "pygments_lexer": "ipython3",
   "version": "3.9.7"
  }
 },
 "nbformat": 4,
 "nbformat_minor": 1
}
